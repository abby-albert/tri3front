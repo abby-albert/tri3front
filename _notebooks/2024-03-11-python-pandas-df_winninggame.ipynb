{
 "cells": [
  {
   "cell_type": "code",
   "execution_count": 1,
   "metadata": {},
   "outputs": [],
   "source": [
    "import seaborn as sns\n",
    "\n",
    "# Load the titanic dataset\n",
    "grade_data = sns.load_dataset('attention')\n",
    "\n",
    "print(\"Grade Data\")\n",
    "\n",
    "\n",
    "print(grade_data.columns) # titanic data set\n",
    "display(grade_data[['subject','attention', 'solutions', 'score',  ]]) "
   ]
  },
  {
   "cell_type": "code",
   "execution_count": 7,
   "metadata": {},
   "outputs": [],
   "source": [
    "student = {\n",
    "    'subject' : ['1'],\n",
    "    'attention': ['focused'],\n",
    "    'solutions': [2],\n",
    "    'score': [8.0],\n",
    "}\n"
   ]
  }
 ],
 "metadata": {
  "kernelspec": {
   "display_name": "Python 3",
   "language": "python",
   "name": "python3"
  },
  "language_info": {
   "codemirror_mode": {
    "name": "ipython",
    "version": 3
   },
   "file_extension": ".py",
   "mimetype": "text/x-python",
   "name": "python",
   "nbconvert_exporter": "python",
   "pygments_lexer": "ipython3",
   "version": "3.11.8"
  },
  "orig_nbformat": 4
 },
 "nbformat": 4,
 "nbformat_minor": 2
}
